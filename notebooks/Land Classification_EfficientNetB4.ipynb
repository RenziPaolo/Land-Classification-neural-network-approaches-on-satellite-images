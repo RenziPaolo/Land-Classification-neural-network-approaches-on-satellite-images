{
 "cells": [
  {
   "cell_type": "code",
   "execution_count": 1,
   "id": "9b761683",
   "metadata": {},
   "outputs": [
    {
     "data": {
      "text/html": [
       "<style>.container { width:70% !important; }</style>"
      ],
      "text/plain": [
       "<IPython.core.display.HTML object>"
      ]
     },
     "metadata": {},
     "output_type": "display_data"
    },
    {
     "name": "stdout",
     "output_type": "stream",
     "text": [
      "2.9.1\n",
      "1 Physical GPUs, 1 Logical GPUs\n"
     ]
    },
    {
     "name": "stderr",
     "output_type": "stream",
     "text": [
      "2022-11-26 10:05:17.263401: I tensorflow/stream_executor/cuda/cuda_gpu_executor.cc:975] successful NUMA node read from SysFS had negative value (-1), but there must be at least one NUMA node, so returning NUMA node zero\n",
      "2022-11-26 10:05:17.279410: I tensorflow/stream_executor/cuda/cuda_gpu_executor.cc:975] successful NUMA node read from SysFS had negative value (-1), but there must be at least one NUMA node, so returning NUMA node zero\n",
      "2022-11-26 10:05:17.279679: I tensorflow/stream_executor/cuda/cuda_gpu_executor.cc:975] successful NUMA node read from SysFS had negative value (-1), but there must be at least one NUMA node, so returning NUMA node zero\n",
      "2022-11-26 10:05:17.280984: I tensorflow/core/platform/cpu_feature_guard.cc:193] This TensorFlow binary is optimized with oneAPI Deep Neural Network Library (oneDNN) to use the following CPU instructions in performance-critical operations:  AVX2 FMA\n",
      "To enable them in other operations, rebuild TensorFlow with the appropriate compiler flags.\n",
      "2022-11-26 10:05:17.282447: I tensorflow/stream_executor/cuda/cuda_gpu_executor.cc:975] successful NUMA node read from SysFS had negative value (-1), but there must be at least one NUMA node, so returning NUMA node zero\n",
      "2022-11-26 10:05:17.282662: I tensorflow/stream_executor/cuda/cuda_gpu_executor.cc:975] successful NUMA node read from SysFS had negative value (-1), but there must be at least one NUMA node, so returning NUMA node zero\n",
      "2022-11-26 10:05:17.282849: I tensorflow/stream_executor/cuda/cuda_gpu_executor.cc:975] successful NUMA node read from SysFS had negative value (-1), but there must be at least one NUMA node, so returning NUMA node zero\n",
      "2022-11-26 10:05:17.729690: I tensorflow/stream_executor/cuda/cuda_gpu_executor.cc:975] successful NUMA node read from SysFS had negative value (-1), but there must be at least one NUMA node, so returning NUMA node zero\n",
      "2022-11-26 10:05:17.729852: I tensorflow/stream_executor/cuda/cuda_gpu_executor.cc:975] successful NUMA node read from SysFS had negative value (-1), but there must be at least one NUMA node, so returning NUMA node zero\n",
      "2022-11-26 10:05:17.729985: I tensorflow/stream_executor/cuda/cuda_gpu_executor.cc:975] successful NUMA node read from SysFS had negative value (-1), but there must be at least one NUMA node, so returning NUMA node zero\n",
      "2022-11-26 10:05:17.730099: I tensorflow/core/common_runtime/gpu/gpu_device.cc:1532] Created device /job:localhost/replica:0/task:0/device:GPU:0 with 6211 MB memory:  -> device: 0, name: NVIDIA GeForce GTX 1070 Ti, pci bus id: 0000:08:00.0, compute capability: 6.1\n"
     ]
    }
   ],
   "source": [
    "from IPython.display import display, HTML\n",
    "display(HTML(\"<style>.container { width:70% !important; }</style>\"))\n",
    "# TensorFlow and tf.keras\n",
    "import tensorflow as tf\n",
    "import tensorflow_addons as tfa\n",
    "# Helper libraries\n",
    "import numpy as np\n",
    "import matplotlib.pyplot as plt\n",
    "import tensorflow_datasets as tfds\n",
    "from sklearn.metrics import confusion_matrix\n",
    "import seaborn as sns\n",
    "\n",
    "from datetime import datetime\n",
    "\n",
    "print(tf.__version__)\n",
    "tf.config.list_physical_devices('GPU')\n",
    "gpus = tf.config.list_physical_devices('GPU')\n",
    "if gpus:\n",
    "  try:\n",
    "    # Currently, memory growth needs to be the same across GPUs\n",
    "    for gpu in gpus:\n",
    "      tf.config.experimental.set_memory_growth(gpu, True)\n",
    "    logical_gpus = tf.config.list_logical_devices('GPU')\n",
    "    print(len(gpus), \"Physical GPUs,\", len(logical_gpus), \"Logical GPUs\")\n",
    "  except RuntimeError as e:\n",
    "    # Memory growth must be set before GPUs have been initialized\n",
    "    print(e)"
   ]
  },
  {
   "cell_type": "code",
   "execution_count": 2,
   "id": "10631242",
   "metadata": {},
   "outputs": [],
   "source": [
    "(ds_train, ds_test, ds_validation), ds_info = tfds.load(\n",
    "    'eurosat/all',\n",
    "    split=['train[:80%]','train[80%:90%]','train[90%:100%]'],\n",
    "    shuffle_files=True,\n",
    "    as_supervised=True,\n",
    "    with_info=True,\n",
    ")"
   ]
  },
  {
   "cell_type": "code",
   "execution_count": 3,
   "id": "4f9f9d1c",
   "metadata": {},
   "outputs": [],
   "source": [
    "def render_training_history(training_history):\n",
    "    loss = training_history.history['loss']\n",
    "    val_loss = training_history.history['val_loss']\n",
    "\n",
    "    accuracy = training_history.history['sparse_categorical_accuracy']\n",
    "    val_accuracy = training_history.history['val_sparse_categorical_accuracy']\n",
    "\n",
    "    plt.figure(figsize=(14, 4))\n",
    "\n",
    "    plt.subplot(1, 2, 1)\n",
    "    plt.title('Loss')\n",
    "    plt.xlabel('Epoch')\n",
    "    plt.ylabel('Loss')\n",
    "    plt.plot(loss, label='Training set')\n",
    "    plt.plot(val_loss, label='Test set', linestyle='--')\n",
    "    plt.legend()\n",
    "    plt.grid(linestyle='--', linewidth=1, alpha=0.5)\n",
    "\n",
    "    plt.subplot(1, 2, 2)\n",
    "    plt.title('Accuracy')\n",
    "    plt.xlabel('Epoch')\n",
    "    plt.ylabel('Accuracy')\n",
    "    plt.plot(accuracy, label='Training set')\n",
    "    plt.plot(val_accuracy, label='Test set', linestyle='--')\n",
    "    plt.legend()\n",
    "    plt.grid(linestyle='--', linewidth=1, alpha=0.5)\n",
    "\n",
    "    plt.savefig(fname=\"EfficientNetB4/EfficientNetB4 history\"+current_time,dpi=300)"
   ]
  },
  {
   "cell_type": "code",
   "execution_count": 4,
   "id": "067f1848",
   "metadata": {},
   "outputs": [],
   "source": [
    "def normalize_img(image, label):\n",
    "  \"\"\"Normalizes images: `uint8` -> `float32`.\"\"\"\n",
    "  return image[:,:,1:4]/28002., label\n",
    "\n",
    "ds_train = ds_train.map(\n",
    "    normalize_img, num_parallel_calls=tf.data.AUTOTUNE)\n",
    "ds_train = ds_train.cache()\n",
    "ds_train = ds_train.shuffle(ds_info.splits['train'].num_examples)\n",
    "ds_train = ds_train.batch(128)\n",
    "ds_train = ds_train.prefetch(tf.data.AUTOTUNE)\n",
    "\n",
    "ds_test = ds_test.map(\n",
    "    normalize_img, num_parallel_calls=tf.data.AUTOTUNE)\n",
    "ds_test = ds_test.cache()\n",
    "ds_test = ds_test.batch(128)\n",
    "ds_test = ds_test.prefetch(tf.data.AUTOTUNE)\n",
    "\n",
    "ds_validation = ds_validation.map(\n",
    "    normalize_img, num_parallel_calls=tf.data.AUTOTUNE)\n",
    "ds_validation = ds_validation.batch(128)\n",
    "ds_validation = ds_validation.cache()"
   ]
  },
  {
   "cell_type": "code",
   "execution_count": 5,
   "id": "71457f2e",
   "metadata": {},
   "outputs": [],
   "source": [
    "def preview_dataset(dataset):\n",
    "    for image, label in dataset.take(20):\n",
    "        print(image)\n",
    "#preview_dataset(ds_test)"
   ]
  },
  {
   "cell_type": "code",
   "execution_count": 6,
   "id": "d7a2b131",
   "metadata": {},
   "outputs": [],
   "source": [
    "#FLIP\n",
    "def augment_flip(image: tf.Tensor) -> tf.Tensor:\n",
    "    image = tf.image.random_flip_left_right(image)\n",
    "    image = tf.image.random_flip_up_down(image)\n",
    "    return image\n",
    "# AUGMENT COLOR\n",
    "def augment_color(image: tf.Tensor) -> tf.Tensor:\n",
    "    image = tf.image.random_hue(image, max_delta=0.08)\n",
    "    image = tf.image.random_saturation(image, lower=0.7, upper=1.3)\n",
    "    image = tf.image.random_brightness(image, 0.07)\n",
    "    image = tf.image.random_contrast(image, lower=0.8, upper=1)\n",
    "    image = tf.clip_by_value(image, clip_value_min=0, clip_value_max=1)\n",
    "    return image\n",
    "def augment_hue(image: tf.Tensor) -> tf.Tensor:\n",
    "    image = tf.image.random_hue(image, max_delta=0.062)\n",
    "    image = tf.clip_by_value(image, clip_value_min=0, clip_value_max=1)\n",
    "    return image\n",
    "def augment_saturation(image: tf.Tensor) -> tf.Tensor:\n",
    "    image = tf.image.random_saturation(image, lower=0.745, upper=1.25)\n",
    "    image = tf.clip_by_value(image, clip_value_min=0, clip_value_max=1)\n",
    "    return image\n",
    "def augment_brightness(image: tf.Tensor) -> tf.Tensor:\n",
    "    image = tf.image.random_brightness(image, 0.062)\n",
    "    image = tf.clip_by_value(image, clip_value_min=0, clip_value_max=1)\n",
    "    return image\n",
    "def augment_contrast(image: tf.Tensor) -> tf.Tensor:\n",
    "    image = tf.image.random_contrast(image, lower=0.85, upper=1.05)\n",
    "    image = tf.clip_by_value(image, clip_value_min=0, clip_value_max=1)\n",
    "    return image\n",
    "# ROTATE\n",
    "def augment_rotation(image: tf.Tensor) -> tf.Tensor:\n",
    "    # Rotate 0, 90, 180, 270 degrees\n",
    "    return tf.image.rot90(\n",
    "        image,\n",
    "        tf.random.uniform(shape=[], minval=0, maxval=4, dtype=tf.int32)\n",
    "    )\n",
    "#INVERT\n",
    "def augment_inversion(image: tf.Tensor) -> tf.Tensor:\n",
    "    random = tf.random.uniform(shape=[], minval=0, maxval=1)\n",
    "    if random > 0.8:\n",
    "        image = tf.math.multiply(image, -1)\n",
    "        image = tf.math.add(image, 1)\n",
    "    return image"
   ]
  },
  {
   "cell_type": "code",
   "execution_count": 7,
   "id": "02781322",
   "metadata": {},
   "outputs": [],
   "source": [
    "def augment_data(image,label):\n",
    "  image=augment_flip(image)\n",
    "  #image=augment_color(image)\n",
    "  #image=augment_rotation(image)\n",
    "  #image=augment_inversion(image)\n",
    "  image=augment_hue(image)\n",
    "  image=augment_saturation(image)\n",
    "  image=augment_brightness(image)\n",
    "  image=augment_contrast(image)\n",
    "\n",
    "\n",
    "  return image,label"
   ]
  },
  {
   "cell_type": "code",
   "execution_count": 8,
   "id": "48b3d64d",
   "metadata": {},
   "outputs": [],
   "source": [
    "ds_train_augmented = ds_train.map(augment_data)"
   ]
  },
  {
   "cell_type": "code",
   "execution_count": 9,
   "id": "75256822",
   "metadata": {},
   "outputs": [],
   "source": [
    "resnet = tf.keras.applications.EfficientNetB4(include_top = False,\n",
    "                                          input_shape = (64,64,3),\n",
    "                                          classes = 10)\n",
    "\n",
    "model = tf.keras.models.Sequential(resnet)\n",
    "model.add(tf.keras.layers.Flatten())\n",
    "model.add(tf.keras.layers.Dense(128, activation='relu'))\n",
    "model.add(tf.keras.layers.Dense(32, activation='relu'))\n",
    "model.add(tf.keras.layers.Dense(10, activation='softmax'))"
   ]
  },
  {
   "cell_type": "code",
   "execution_count": 10,
   "id": "a9944c64",
   "metadata": {
    "scrolled": true
   },
   "outputs": [
    {
     "data": {
      "image/png": "[encoded data removed]",
      "text/plain": [
       "<IPython.core.display.Image object>"
      ]
     },
     "execution_count": 10,
     "metadata": {},
     "output_type": "execute_result"
    }
   ],
   "source": [
    "model.compile(\n",
    "    optimizer=tf.keras.optimizers.Adam(5e-7),\n",
    "    loss=tf.keras.losses.SparseCategoricalCrossentropy(),\n",
    "    metrics=[tf.keras.metrics.SparseCategoricalAccuracy()],\n",
    ")\n",
    "tf.keras.utils.plot_model(model,show_shapes=True,show_layer_names=True)"
   ]
  },
  {
   "cell_type": "code",
   "execution_count": null,
   "id": "563eeb09",
   "metadata": {
    "scrolled": true
   },
   "outputs": [
    {
     "name": "stdout",
     "output_type": "stream",
     "text": [
      "Epoch 1/100\n"
     ]
    },
    {
     "name": "stderr",
     "output_type": "stream",
     "text": [
      "2022-11-26 10:05:33.350741: I tensorflow/stream_executor/cuda/cuda_dnn.cc:384] Loaded cuDNN version 8100\n",
      "2022-11-26 10:05:34.430673: W tensorflow/core/common_runtime/bfc_allocator.cc:290] Allocator (GPU_0_bfc) ran out of memory trying to allocate 2.73GiB with freed_by_count=0. The caller indicates that this is not a failure, but this may mean that there could be performance gains if more memory were available.\n",
      "2022-11-26 10:05:34.485478: W tensorflow/core/common_runtime/bfc_allocator.cc:290] Allocator (GPU_0_bfc) ran out of memory trying to allocate 3.34GiB with freed_by_count=0. The caller indicates that this is not a failure, but this may mean that there could be performance gains if more memory were available.\n",
      "2022-11-26 10:05:34.638329: W tensorflow/core/common_runtime/bfc_allocator.cc:290] Allocator (GPU_0_bfc) ran out of memory trying to allocate 2.23GiB with freed_by_count=0. The caller indicates that this is not a failure, but this may mean that there could be performance gains if more memory were available.\n",
      "2022-11-26 10:05:34.695595: W tensorflow/core/common_runtime/bfc_allocator.cc:290] Allocator (GPU_0_bfc) ran out of memory trying to allocate 2.73GiB with freed_by_count=0. The caller indicates that this is not a failure, but this may mean that there could be performance gains if more memory were available.\n",
      "2022-11-26 10:05:34.712226: W tensorflow/core/common_runtime/bfc_allocator.cc:290] Allocator (GPU_0_bfc) ran out of memory trying to allocate 2.60GiB with freed_by_count=0. The caller indicates that this is not a failure, but this may mean that there could be performance gains if more memory were available.\n",
      "2022-11-26 10:05:34.822466: W tensorflow/core/common_runtime/bfc_allocator.cc:290] Allocator (GPU_0_bfc) ran out of memory trying to allocate 2.60GiB with freed_by_count=0. The caller indicates that this is not a failure, but this may mean that there could be performance gains if more memory were available.\n",
      "2022-11-26 10:05:34.837714: W tensorflow/core/common_runtime/bfc_allocator.cc:290] Allocator (GPU_0_bfc) ran out of memory trying to allocate 3.34GiB with freed_by_count=0. The caller indicates that this is not a failure, but this may mean that there could be performance gains if more memory were available.\n"
     ]
    },
    {
     "name": "stdout",
     "output_type": "stream",
     "text": [
      "168/169 [============================>.] - ETA: 0s - loss: 2.5542 - sparse_categorical_accuracy: 0.0953"
     ]
    },
    {
     "name": "stderr",
     "output_type": "stream",
     "text": [
      "2022-11-26 10:06:23.576558: W tensorflow/core/common_runtime/bfc_allocator.cc:290] Allocator (GPU_0_bfc) ran out of memory trying to allocate 2.70GiB with freed_by_count=0. The caller indicates that this is not a failure, but this may mean that there could be performance gains if more memory were available.\n",
      "2022-11-26 10:06:23.627708: W tensorflow/core/common_runtime/bfc_allocator.cc:290] Allocator (GPU_0_bfc) ran out of memory trying to allocate 3.16GiB with freed_by_count=0. The caller indicates that this is not a failure, but this may mean that there could be performance gains if more memory were available.\n",
      "2022-11-26 10:06:23.678260: W tensorflow/core/common_runtime/bfc_allocator.cc:290] Allocator (GPU_0_bfc) ran out of memory trying to allocate 2.11GiB with freed_by_count=0. The caller indicates that this is not a failure, but this may mean that there could be performance gains if more memory were available.\n"
     ]
    },
    {
     "name": "stdout",
     "output_type": "stream",
     "text": [
      "169/169 [==============================] - 67s 312ms/step - loss: 2.5533 - sparse_categorical_accuracy: 0.0956 - val_loss: 2.3776 - val_sparse_categorical_accuracy: 0.1070\n",
      "Epoch 2/100\n",
      "169/169 [==============================] - 50s 294ms/step - loss: 2.4718 - sparse_categorical_accuracy: 0.1073 - val_loss: 2.7825 - val_sparse_categorical_accuracy: 0.0781\n",
      "Epoch 3/100\n",
      "169/169 [==============================] - 50s 296ms/step - loss: 2.4070 - sparse_categorical_accuracy: 0.1275 - val_loss: 2.4392 - val_sparse_categorical_accuracy: 0.0948\n",
      "Epoch 4/100\n",
      "169/169 [==============================] - 50s 295ms/step - loss: 2.3460 - sparse_categorical_accuracy: 0.1505 - val_loss: 2.4827 - val_sparse_categorical_accuracy: 0.1356\n",
      "Epoch 5/100\n",
      "169/169 [==============================] - 50s 298ms/step - loss: 2.2828 - sparse_categorical_accuracy: 0.1811 - val_loss: 2.4938 - val_sparse_categorical_accuracy: 0.1189\n",
      "Epoch 6/100\n",
      "169/169 [==============================] - 50s 297ms/step - loss: 2.2366 - sparse_categorical_accuracy: 0.2020 - val_loss: 2.2568 - val_sparse_categorical_accuracy: 0.1644\n",
      "Epoch 7/100\n",
      "169/169 [==============================] - 50s 297ms/step - loss: 2.1929 - sparse_categorical_accuracy: 0.2201 - val_loss: 2.0891 - val_sparse_categorical_accuracy: 0.2515\n",
      "Epoch 8/100\n",
      "169/169 [==============================] - 50s 296ms/step - loss: 2.1542 - sparse_categorical_accuracy: 0.2374 - val_loss: 2.0223 - val_sparse_categorical_accuracy: 0.2841\n",
      "Epoch 9/100\n",
      "169/169 [==============================] - 50s 296ms/step - loss: 2.1199 - sparse_categorical_accuracy: 0.2443 - val_loss: 1.9690 - val_sparse_categorical_accuracy: 0.3130\n",
      "Epoch 10/100\n",
      "169/169 [==============================] - 50s 296ms/step - loss: 2.0829 - sparse_categorical_accuracy: 0.2637 - val_loss: 1.9158 - val_sparse_categorical_accuracy: 0.3274\n",
      "Epoch 11/100\n",
      "169/169 [==============================] - 49s 293ms/step - loss: 2.0532 - sparse_categorical_accuracy: 0.2804 - val_loss: 1.9103 - val_sparse_categorical_accuracy: 0.3304\n",
      "Epoch 12/100\n",
      "169/169 [==============================] - 50s 294ms/step - loss: 2.0310 - sparse_categorical_accuracy: 0.2881 - val_loss: 1.8465 - val_sparse_categorical_accuracy: 0.3685\n",
      "Epoch 13/100\n",
      "169/169 [==============================] - 49s 292ms/step - loss: 2.0009 - sparse_categorical_accuracy: 0.3014 - val_loss: 1.8114 - val_sparse_categorical_accuracy: 0.3893\n",
      "Epoch 14/100\n",
      "169/169 [==============================] - 50s 293ms/step - loss: 1.9873 - sparse_categorical_accuracy: 0.3127 - val_loss: 1.7964 - val_sparse_categorical_accuracy: 0.3967\n",
      "Epoch 15/100\n",
      "169/169 [==============================] - 49s 293ms/step - loss: 1.9545 - sparse_categorical_accuracy: 0.3246 - val_loss: 1.7164 - val_sparse_categorical_accuracy: 0.4311\n",
      "Epoch 16/100\n",
      "169/169 [==============================] - 50s 294ms/step - loss: 1.9436 - sparse_categorical_accuracy: 0.3262 - val_loss: 1.7098 - val_sparse_categorical_accuracy: 0.4367\n",
      "Epoch 17/100\n",
      "169/169 [==============================] - 49s 292ms/step - loss: 1.9095 - sparse_categorical_accuracy: 0.3433 - val_loss: 1.7221 - val_sparse_categorical_accuracy: 0.4319\n",
      "Epoch 18/100\n",
      "169/169 [==============================] - 49s 291ms/step - loss: 1.8884 - sparse_categorical_accuracy: 0.3502 - val_loss: 1.7069 - val_sparse_categorical_accuracy: 0.4333\n",
      "Epoch 19/100\n",
      "169/169 [==============================] - 49s 293ms/step - loss: 1.8782 - sparse_categorical_accuracy: 0.3584 - val_loss: 1.6399 - val_sparse_categorical_accuracy: 0.4722\n",
      "Epoch 20/100\n",
      "169/169 [==============================] - 49s 292ms/step - loss: 1.8673 - sparse_categorical_accuracy: 0.3624 - val_loss: 1.6367 - val_sparse_categorical_accuracy: 0.4652\n",
      "Epoch 21/100\n",
      "169/169 [==============================] - 49s 290ms/step - loss: 1.8482 - sparse_categorical_accuracy: 0.3693 - val_loss: 1.6620 - val_sparse_categorical_accuracy: 0.4378\n",
      "Epoch 22/100\n",
      "169/169 [==============================] - 48s 281ms/step - loss: 1.8347 - sparse_categorical_accuracy: 0.3730 - val_loss: 1.5737 - val_sparse_categorical_accuracy: 0.4948\n",
      "Epoch 23/100\n",
      "169/169 [==============================] - 48s 282ms/step - loss: 1.8027 - sparse_categorical_accuracy: 0.3846 - val_loss: 1.5654 - val_sparse_categorical_accuracy: 0.4778\n",
      "Epoch 24/100\n",
      "169/169 [==============================] - 48s 281ms/step - loss: 1.7793 - sparse_categorical_accuracy: 0.3903 - val_loss: 1.5500 - val_sparse_categorical_accuracy: 0.4815\n",
      "Epoch 25/100\n",
      "169/169 [==============================] - 47s 281ms/step - loss: 1.7770 - sparse_categorical_accuracy: 0.3893 - val_loss: 1.5607 - val_sparse_categorical_accuracy: 0.4915\n",
      "Epoch 26/100\n",
      "169/169 [==============================] - 48s 285ms/step - loss: 1.7615 - sparse_categorical_accuracy: 0.3986 - val_loss: 1.5180 - val_sparse_categorical_accuracy: 0.5111\n",
      "Epoch 27/100\n",
      "169/169 [==============================] - 48s 284ms/step - loss: 1.7399 - sparse_categorical_accuracy: 0.4094 - val_loss: 1.5319 - val_sparse_categorical_accuracy: 0.5133\n",
      "Epoch 28/100\n",
      "169/169 [==============================] - 48s 283ms/step - loss: 1.7069 - sparse_categorical_accuracy: 0.4233 - val_loss: 1.5045 - val_sparse_categorical_accuracy: 0.5156\n",
      "Epoch 29/100\n",
      "169/169 [==============================] - 47s 279ms/step - loss: 1.7210 - sparse_categorical_accuracy: 0.4107 - val_loss: 1.5029 - val_sparse_categorical_accuracy: 0.5041\n",
      "Epoch 30/100\n",
      "169/169 [==============================] - 48s 281ms/step - loss: 1.7010 - sparse_categorical_accuracy: 0.4213 - val_loss: 1.6220 - val_sparse_categorical_accuracy: 0.4585\n",
      "Epoch 31/100\n",
      "169/169 [==============================] - 48s 281ms/step - loss: 1.6879 - sparse_categorical_accuracy: 0.4270 - val_loss: 1.6148 - val_sparse_categorical_accuracy: 0.4470\n",
      "Epoch 32/100\n",
      "169/169 [==============================] - 47s 281ms/step - loss: 1.6439 - sparse_categorical_accuracy: 0.4418 - val_loss: 1.4517 - val_sparse_categorical_accuracy: 0.5370\n",
      "Epoch 33/100\n",
      "169/169 [==============================] - 48s 282ms/step - loss: 1.6371 - sparse_categorical_accuracy: 0.4475 - val_loss: 1.4426 - val_sparse_categorical_accuracy: 0.5233\n",
      "Epoch 34/100\n",
      "169/169 [==============================] - 48s 282ms/step - loss: 1.6482 - sparse_categorical_accuracy: 0.4395 - val_loss: 1.3918 - val_sparse_categorical_accuracy: 0.5419\n",
      "Epoch 35/100\n",
      "169/169 [==============================] - 48s 282ms/step - loss: 1.6226 - sparse_categorical_accuracy: 0.4481 - val_loss: 1.4321 - val_sparse_categorical_accuracy: 0.5333\n",
      "Epoch 36/100\n",
      "169/169 [==============================] - 48s 283ms/step - loss: 1.6536 - sparse_categorical_accuracy: 0.4365 - val_loss: 1.4582 - val_sparse_categorical_accuracy: 0.5163\n",
      "Epoch 37/100\n",
      " 46/169 [=======>......................] - ETA: 33s - loss: 1.6250 - sparse_categorical_accuracy: 0.4482"
     ]
    }
   ],
   "source": [
    "history = model.fit(\n",
    "    ds_train_augmented,\n",
    "    epochs=100,\n",
    "    validation_data=ds_validation,\n",
    "    callbacks = tf.keras.callbacks.ModelCheckpoint(\n",
    "        \"EfficientNetB4/EfficientNetB4 epoch:{epoch:02d}-val_loss:{val_loss:.3f}\",\n",
    "        save_best_only = True,\n",
    "        initial_value_threshold = 0.7\n",
    "    )\n",
    ")"
   ]
  },
  {
   "cell_type": "code",
   "execution_count": null,
   "id": "d19141bd",
   "metadata": {
    "scrolled": false
   },
   "outputs": [],
   "source": [
    "test_loss, test_acc = model.evaluate(ds_test, verbose=0)\n",
    "print('\\nTest accuracy:', test_acc)\n",
    "\n",
    "\n",
    "ds_test_predict = model.predict(ds_test, verbose=0)\n",
    "\n",
    "labels_iterator = ds_test.unbatch().map(lambda x, y: y).as_numpy_iterator()\n",
    "labels = np.array(list(labels_iterator))\n",
    "\n",
    "y_pred = np.argmax(ds_test_predict, axis=1)\n",
    "y_test = labels\n",
    "plt.figure(figsize=(10,6))\n",
    "fx=sns.heatmap(confusion_matrix(y_pred, y_test, normalize=\"pred\"), annot=True, fmt=\".2%\",cmap=\"GnBu\")\n",
    "fx.set_title('Confusion Matrix \\n');\n",
    "fx.set_xlabel('\\n Predicted Values\\n')\n",
    "fx.set_ylabel('Actual Values\\n');\n",
    "fx.xaxis.set_ticklabels(['AnnualCrop','Forest','HerbaceousVegetation',\n",
    "                         'Highway','Industrial','Pasture','PermanentCrop',\n",
    "                         'Residential','River','SeaLake'], rotation=20, ha=\"right\")\n",
    "fx.yaxis.set_ticklabels(['AnnualCrop','Forest','HerbaceousVegetation',\n",
    "                         'Highway','Industrial','Pasture','PermanentCrop',\n",
    "                         'Residential','River','SeaLake'], rotation=20, ha=\"right\")\n",
    "\n",
    "now = datetime.now()\n",
    "current_time = now.strftime(\"%H:%M:%S\")\n",
    "plt.savefig(fname=\"EfficientNetB4/EfficientNetB4 confusion matrix\"+current_time,dpi=300)\n",
    "render_training_history(history)\n"
   ]
  }
 ],
 "metadata": {
  "kernelspec": {
   "display_name": "Python 3 (ipykernel)",
   "language": "python",
   "name": "python3"
  },
  "language_info": {
   "codemirror_mode": {
    "name": "ipython",
    "version": 3
   },
   "file_extension": ".py",
   "mimetype": "text/x-python",
   "name": "python",
   "nbconvert_exporter": "python",
   "pygments_lexer": "ipython3",
   "version": "3.10.8"
  }
 },
 "nbformat": 4,
 "nbformat_minor": 5
}
