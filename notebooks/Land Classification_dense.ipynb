{
 "cells": [
  {
   "cell_type": "code",
   "execution_count": 1,
   "id": "f551dbc4",
   "metadata": {},
   "outputs": [
    {
     "data": {
      "text/html": [
       "<style>.container { width:70% !important; }</style>"
      ],
      "text/plain": [
       "<IPython.core.display.HTML object>"
      ]
     },
     "metadata": {},
     "output_type": "display_data"
    },
    {
     "name": "stdout",
     "output_type": "stream",
     "text": [
      "2.9.1\n",
      "1 Physical GPUs, 1 Logical GPUs\n"
     ]
    },
    {
     "name": "stderr",
     "output_type": "stream",
     "text": [
      "2022-11-25 10:03:12.065425: I tensorflow/stream_executor/cuda/cuda_gpu_executor.cc:975] successful NUMA node read from SysFS had negative value (-1), but there must be at least one NUMA node, so returning NUMA node zero\n",
      "2022-11-25 10:03:12.072336: I tensorflow/stream_executor/cuda/cuda_gpu_executor.cc:975] successful NUMA node read from SysFS had negative value (-1), but there must be at least one NUMA node, so returning NUMA node zero\n",
      "2022-11-25 10:03:12.072580: I tensorflow/stream_executor/cuda/cuda_gpu_executor.cc:975] successful NUMA node read from SysFS had negative value (-1), but there must be at least one NUMA node, so returning NUMA node zero\n",
      "2022-11-25 10:03:12.073311: I tensorflow/core/platform/cpu_feature_guard.cc:193] This TensorFlow binary is optimized with oneAPI Deep Neural Network Library (oneDNN) to use the following CPU instructions in performance-critical operations:  AVX2 FMA\n",
      "To enable them in other operations, rebuild TensorFlow with the appropriate compiler flags.\n",
      "2022-11-25 10:03:12.074245: I tensorflow/stream_executor/cuda/cuda_gpu_executor.cc:975] successful NUMA node read from SysFS had negative value (-1), but there must be at least one NUMA node, so returning NUMA node zero\n",
      "2022-11-25 10:03:12.074445: I tensorflow/stream_executor/cuda/cuda_gpu_executor.cc:975] successful NUMA node read from SysFS had negative value (-1), but there must be at least one NUMA node, so returning NUMA node zero\n",
      "2022-11-25 10:03:12.074604: I tensorflow/stream_executor/cuda/cuda_gpu_executor.cc:975] successful NUMA node read from SysFS had negative value (-1), but there must be at least one NUMA node, so returning NUMA node zero\n",
      "2022-11-25 10:03:12.402424: I tensorflow/stream_executor/cuda/cuda_gpu_executor.cc:975] successful NUMA node read from SysFS had negative value (-1), but there must be at least one NUMA node, so returning NUMA node zero\n",
      "2022-11-25 10:03:12.402589: I tensorflow/stream_executor/cuda/cuda_gpu_executor.cc:975] successful NUMA node read from SysFS had negative value (-1), but there must be at least one NUMA node, so returning NUMA node zero\n",
      "2022-11-25 10:03:12.402723: I tensorflow/stream_executor/cuda/cuda_gpu_executor.cc:975] successful NUMA node read from SysFS had negative value (-1), but there must be at least one NUMA node, so returning NUMA node zero\n",
      "2022-11-25 10:03:12.402837: I tensorflow/core/common_runtime/gpu/gpu_device.cc:1532] Created device /job:localhost/replica:0/task:0/device:GPU:0 with 5094 MB memory:  -> device: 0, name: NVIDIA GeForce GTX 1070 Ti, pci bus id: 0000:08:00.0, compute capability: 6.1\n"
     ]
    }
   ],
   "source": [
    "from IPython.display import display, HTML\n",
    "display(HTML(\"<style>.container { width:70% !important; }</style>\"))\n",
    "# TensorFlow and tf.keras\n",
    "import tensorflow as tf\n",
    "import tensorflow_addons as tfa\n",
    "# Helper libraries\n",
    "import numpy as np\n",
    "import matplotlib.pyplot as plt\n",
    "import tensorflow_datasets as tfds\n",
    "from sklearn.metrics import confusion_matrix\n",
    "import seaborn as sns\n",
    "\n",
    "from datetime import datetime\n",
    "\n",
    "print(tf.__version__)\n",
    "tf.config.list_physical_devices('GPU')\n",
    "memory = True\n",
    "gpus = tf.config.list_physical_devices('GPU')\n",
    "if gpus and memory:\n",
    "  try:\n",
    "    # Currently, memory growth needs to be the same across GPUs\n",
    "    for gpu in gpus:\n",
    "      tf.config.experimental.set_memory_growth(gpu, True)\n",
    "    logical_gpus = tf.config.list_logical_devices('GPU')\n",
    "    print(len(gpus), \"Physical GPUs,\", len(logical_gpus), \"Logical GPUs\")\n",
    "  except RuntimeError as e:\n",
    "    # Memory growth must be set before GPUs have been initialized\n",
    "    print(e)"
   ]
  },
  {
   "cell_type": "code",
   "execution_count": 2,
   "id": "d47f1570",
   "metadata": {},
   "outputs": [],
   "source": [
    "def render_training_history(training_history):\n",
    "    loss = training_history.history['loss']\n",
    "    val_loss = training_history.history['val_loss']\n",
    "\n",
    "    accuracy = training_history.history['sparse_categorical_accuracy']\n",
    "    val_accuracy = training_history.history['val_sparse_categorical_accuracy']\n",
    "\n",
    "    plt.figure(figsize=(14, 4))\n",
    "\n",
    "    plt.subplot(1, 2, 1)\n",
    "    plt.title('Loss')\n",
    "    plt.xlabel('Epoch')\n",
    "    plt.ylabel('Loss')\n",
    "    plt.plot(loss, label='Training set')\n",
    "    plt.plot(val_loss, label='Test set', linestyle='--')\n",
    "    plt.legend()\n",
    "    plt.grid(linestyle='--', linewidth=1, alpha=0.5)\n",
    "\n",
    "    plt.subplot(1, 2, 2)\n",
    "    plt.title('Accuracy')\n",
    "    plt.xlabel('Epoch')\n",
    "    plt.ylabel('Accuracy')\n",
    "    plt.plot(accuracy, label='Training set')\n",
    "    plt.plot(val_accuracy, label='Test set', linestyle='--')\n",
    "    plt.legend()\n",
    "    plt.grid(linestyle='--', linewidth=1, alpha=0.5)\n",
    "\n",
    "    plt.savefig(fname=\"dense/dense history\"+current_time,dpi=300)"
   ]
  },
  {
   "cell_type": "code",
   "execution_count": 3,
   "id": "645dfc25",
   "metadata": {},
   "outputs": [],
   "source": [
    "ds, ds_info = tfds.load(\n",
    "    'eurosat/all',\n",
    "    split='train',\n",
    "    shuffle_files=True,\n",
    "    as_supervised=True,\n",
    "    with_info=True,\n",
    ")"
   ]
  },
  {
   "cell_type": "code",
   "execution_count": 4,
   "id": "9074b471",
   "metadata": {},
   "outputs": [],
   "source": [
    "(ds_train, ds_test, ds_validation), ds_info = tfds.load(\n",
    "    'eurosat/all',\n",
    "    split=['train[:80%]','train[80%:90%]','train[90%:100%]'],\n",
    "    shuffle_files=True,\n",
    "    as_supervised=True,\n",
    "    with_info=True,\n",
    ")"
   ]
  },
  {
   "cell_type": "code",
   "execution_count": 5,
   "id": "2a290933",
   "metadata": {},
   "outputs": [],
   "source": [
    "def normalize_img(image, label):\n",
    "  \"\"\"Normalizes images: `uint8` -> `float32`.\"\"\"\n",
    "  return image/28002, label\n",
    "\n",
    "ds_train = ds_train.map(\n",
    "    normalize_img, num_parallel_calls=tf.data.AUTOTUNE)\n",
    "ds_train = ds_train.cache()\n",
    "ds_train = ds_train.shuffle(ds_info.splits['train'].num_examples)\n",
    "ds_train = ds_train.batch(128)\n",
    "ds_train = ds_train.prefetch(tf.data.AUTOTUNE)\n",
    "\n",
    "ds_test = ds_test.map(\n",
    "    normalize_img, num_parallel_calls=tf.data.AUTOTUNE)\n",
    "ds_test = ds_test.batch(128)\n",
    "ds_test = ds_test.cache()\n",
    "\n",
    "ds_validation = ds_validation.map(\n",
    "    normalize_img, num_parallel_calls=tf.data.AUTOTUNE)\n",
    "ds_validation = ds_validation.batch(128)\n",
    "ds_validation = ds_validation.cache()\n",
    "\n",
    "ds = ds.map(\n",
    "    normalize_img, num_parallel_calls=tf.data.AUTOTUNE)\n",
    "ds = ds.batch(128)\n",
    "ds = ds.cache()"
   ]
  },
  {
   "cell_type": "code",
   "execution_count": 6,
   "id": "815ad724",
   "metadata": {},
   "outputs": [
    {
     "name": "stdout",
     "output_type": "stream",
     "text": [
      "[2406, 2386, 2417, 1971, 1988, 1609, 2005, 2411, 2022, 2385]\n",
      "[271, 301, 290, 274, 263, 190, 244, 299, 247, 321]\n",
      "[323, 313, 293, 255, 249, 201, 251, 290, 231, 294]\n"
     ]
    }
   ],
   "source": [
    "def balanceofdataset(dataset):\n",
    "    classes = [0 for i in range(10)]\n",
    "    for image, label in dataset.unbatch():\n",
    "        classes[label.numpy()] +=1\n",
    "        #print(label.numpy())\n",
    "    print(classes)\n",
    "\n",
    "balanceofdataset(ds_train)\n",
    "balanceofdataset(ds_validation)\n",
    "balanceofdataset(ds_test)"
   ]
  },
  {
   "cell_type": "code",
   "execution_count": 7,
   "id": "2a771f2d",
   "metadata": {},
   "outputs": [],
   "source": [
    "#FLIP\n",
    "def augment_flip(image: tf.Tensor) -> tf.Tensor:\n",
    "    image = tf.image.random_flip_left_right(image)\n",
    "    image = tf.image.random_flip_up_down(image)\n",
    "    return image\n",
    "# AUGMENT COLOR\n",
    "def augment_color(image: tf.Tensor) -> tf.Tensor:\n",
    "    image = tf.image.random_hue(image, max_delta=0.08)\n",
    "    image = tf.image.random_saturation(image, lower=0.7, upper=1.3)\n",
    "    image = tf.image.random_brightness(image, 0.07)\n",
    "    image = tf.image.random_contrast(image, lower=0.8, upper=1)\n",
    "    image = tf.clip_by_value(image, clip_value_min=0, clip_value_max=1)\n",
    "    return image\n",
    "# ROTATE\n",
    "def augment_rotation(image: tf.Tensor) -> tf.Tensor:\n",
    "    # Rotate 0, 90, 180, 270 degrees\n",
    "    return tf.image.rot90(\n",
    "        image,\n",
    "        tf.random.uniform(shape=[], minval=0, maxval=4, dtype=tf.int32)\n",
    "    )\n",
    "#INVERT\n",
    "def augment_inversion(image: tf.Tensor) -> tf.Tensor:\n",
    "    random = tf.random.uniform(shape=[], minval=0, maxval=1)\n",
    "    if random > 0.8:\n",
    "        image = tf.math.multiply(image, -1)\n",
    "        image = tf.math.add(image, 1)\n",
    "    return image"
   ]
  },
  {
   "cell_type": "code",
   "execution_count": 8,
   "id": "2de8756a",
   "metadata": {},
   "outputs": [],
   "source": [
    "def augment_data(image,label):\n",
    "  image=augment_flip(image)\n",
    "  #image=augment_color(image)\n",
    "  #image=augment_rotation(image)\n",
    "  image=augment_inversion(image)\n",
    "\n",
    "\n",
    "  return image,label"
   ]
  },
  {
   "cell_type": "code",
   "execution_count": 9,
   "id": "79c80c4f",
   "metadata": {},
   "outputs": [],
   "source": [
    "ds_train_augmented = ds_train.map(augment_data)"
   ]
  },
  {
   "cell_type": "code",
   "execution_count": 10,
   "id": "677b847e",
   "metadata": {},
   "outputs": [],
   "source": [
    "ds_validation_augmented = ds_validation.map(augment_data)"
   ]
  },
  {
   "cell_type": "code",
   "execution_count": 11,
   "id": "5c8aee65",
   "metadata": {},
   "outputs": [],
   "source": [
    "def scheduler(epoch, lr):\n",
    "    if epoch < 5:\n",
    "        return lr\n",
    "    #elif epoch < 10:\n",
    "    #    return lr * tf.math.exp(-0.1)\n",
    "    elif epoch < 100:\n",
    "        return lr * tf.math.exp(-0.01)\n",
    "    elif epoch < 200:\n",
    "        return lr * tf.math.exp(-0.001)\n",
    "    else:\n",
    "        return lr"
   ]
  },
  {
   "cell_type": "code",
   "execution_count": 12,
   "id": "a6660381",
   "metadata": {},
   "outputs": [],
   "source": [
    "model = tf.keras.models.Sequential([\n",
    "    tf.keras.layers.Flatten(input_shape=(64, 64, 13)),\n",
    "    tf.keras.layers.Dense(1000, activation='relu'),\n",
    "    tf.keras.layers.Dense(500, activation='relu'),\n",
    "    tf.keras.layers.Dense(250, activation='relu'),\n",
    "    tf.keras.layers.Dense(500, activation='relu'),\n",
    "    tf.keras.layers.Dense(1000, activation='relu'),\n",
    "    tf.keras.layers.Dense(10, activation='softmax')\n",
    "])\n",
    "\n"
   ]
  },
  {
   "cell_type": "code",
   "execution_count": 13,
   "id": "0352c4bf",
   "metadata": {},
   "outputs": [
    {
     "data": {
      "image/png": "[encoded data removed]",
      "text/plain": [
       "<IPython.core.display.Image object>"
      ]
     },
     "execution_count": 13,
     "metadata": {},
     "output_type": "execute_result"
    }
   ],
   "source": [
    "model.compile(\n",
    "    optimizer=tf.keras.optimizers.Adam(0.0001),\n",
    "    loss=tf.keras.losses.SparseCategoricalCrossentropy(),\n",
    "    metrics=[tf.keras.metrics.SparseCategoricalAccuracy()]\n",
    "\n",
    ")\n",
    "tf.keras.utils.plot_model(model,show_shapes=True,show_layer_names=True)\n"
   ]
  },
  {
   "cell_type": "code",
   "execution_count": null,
   "id": "73d550d1",
   "metadata": {},
   "outputs": [
    {
     "name": "stdout",
     "output_type": "stream",
     "text": [
      "Epoch 1/800\n",
      "169/169 [==============================] - 10s 56ms/step - loss: 2.5969 - sparse_categorical_accuracy: 0.1925 - val_loss: 2.1887 - val_sparse_categorical_accuracy: 0.2800 - lr: 1.0000e-04\n",
      "Epoch 2/800\n",
      "169/169 [==============================] - 10s 56ms/step - loss: 2.1197 - sparse_categorical_accuracy: 0.2557 - val_loss: 1.7564 - val_sparse_categorical_accuracy: 0.3430 - lr: 1.0000e-04\n",
      "Epoch 3/800\n",
      "169/169 [==============================] - 9s 53ms/step - loss: 1.7717 - sparse_categorical_accuracy: 0.3404 - val_loss: 1.3948 - val_sparse_categorical_accuracy: 0.4993 - lr: 1.0000e-04\n",
      "Epoch 4/800\n",
      "169/169 [==============================] - 11s 67ms/step - loss: 1.5219 - sparse_categorical_accuracy: 0.4391 - val_loss: 1.2064 - val_sparse_categorical_accuracy: 0.5548 - lr: 1.0000e-04\n",
      "Epoch 5/800\n",
      "169/169 [==============================] - 13s 78ms/step - loss: 1.5159 - sparse_categorical_accuracy: 0.4699 - val_loss: 1.1375 - val_sparse_categorical_accuracy: 0.5985 - lr: 1.0000e-04\n",
      "Epoch 6/800\n",
      "169/169 [==============================] - 13s 78ms/step - loss: 1.3476 - sparse_categorical_accuracy: 0.5042 - val_loss: 1.0172 - val_sparse_categorical_accuracy: 0.6374 - lr: 9.9005e-05\n",
      "Epoch 7/800\n",
      "169/169 [==============================] - 13s 76ms/step - loss: 1.2318 - sparse_categorical_accuracy: 0.5464 - val_loss: 0.9733 - val_sparse_categorical_accuracy: 0.6156 - lr: 9.8020e-05\n",
      "Epoch 8/800\n",
      "169/169 [==============================] - 13s 78ms/step - loss: 1.1875 - sparse_categorical_accuracy: 0.5662 - val_loss: 0.9383 - val_sparse_categorical_accuracy: 0.6633 - lr: 9.7045e-05\n",
      "Epoch 9/800\n",
      "169/169 [==============================] - 12s 69ms/step - loss: 1.1973 - sparse_categorical_accuracy: 0.5584 - val_loss: 0.8422 - val_sparse_categorical_accuracy: 0.7019 - lr: 9.6079e-05\n",
      "Epoch 10/800\n",
      "169/169 [==============================] - 10s 58ms/step - loss: 1.2006 - sparse_categorical_accuracy: 0.5652 - val_loss: 0.9881 - val_sparse_categorical_accuracy: 0.6356 - lr: 9.5123e-05\n",
      "Epoch 11/800\n",
      "169/169 [==============================] - 14s 84ms/step - loss: 1.1761 - sparse_categorical_accuracy: 0.5627 - val_loss: 0.8327 - val_sparse_categorical_accuracy: 0.6933 - lr: 9.4176e-05\n",
      "Epoch 12/800\n",
      "169/169 [==============================] - 13s 76ms/step - loss: 1.0915 - sparse_categorical_accuracy: 0.6004 - val_loss: 0.9235 - val_sparse_categorical_accuracy: 0.6737 - lr: 9.3239e-05\n",
      "Epoch 13/800\n",
      "169/169 [==============================] - 13s 77ms/step - loss: 1.1050 - sparse_categorical_accuracy: 0.5945 - val_loss: 0.8063 - val_sparse_categorical_accuracy: 0.7115 - lr: 9.2312e-05\n",
      "Epoch 14/800\n",
      "169/169 [==============================] - 13s 79ms/step - loss: 1.1569 - sparse_categorical_accuracy: 0.5782 - val_loss: 0.7816 - val_sparse_categorical_accuracy: 0.7141 - lr: 9.1393e-05\n",
      "Epoch 15/800\n",
      "169/169 [==============================] - 13s 77ms/step - loss: 1.0959 - sparse_categorical_accuracy: 0.5976 - val_loss: 0.7400 - val_sparse_categorical_accuracy: 0.7322 - lr: 9.0484e-05\n",
      "Epoch 16/800\n",
      "169/169 [==============================] - 13s 77ms/step - loss: 1.0258 - sparse_categorical_accuracy: 0.6215 - val_loss: 0.7284 - val_sparse_categorical_accuracy: 0.7363 - lr: 8.9583e-05\n",
      "Epoch 17/800\n",
      "169/169 [==============================] - 13s 80ms/step - loss: 1.1386 - sparse_categorical_accuracy: 0.5863 - val_loss: 0.7553 - val_sparse_categorical_accuracy: 0.7278 - lr: 8.8692e-05\n",
      "Epoch 18/800\n",
      "169/169 [==============================] - 13s 77ms/step - loss: 1.0892 - sparse_categorical_accuracy: 0.6013 - val_loss: 0.7366 - val_sparse_categorical_accuracy: 0.7374 - lr: 8.7810e-05\n",
      "Epoch 19/800\n",
      "169/169 [==============================] - 13s 74ms/step - loss: 1.0446 - sparse_categorical_accuracy: 0.6177 - val_loss: 0.6802 - val_sparse_categorical_accuracy: 0.7544 - lr: 8.6936e-05\n",
      "Epoch 20/800\n",
      "169/169 [==============================] - 13s 77ms/step - loss: 1.0324 - sparse_categorical_accuracy: 0.6263 - val_loss: 0.6735 - val_sparse_categorical_accuracy: 0.7570 - lr: 8.6071e-05\n",
      "Epoch 21/800\n",
      "169/169 [==============================] - 13s 77ms/step - loss: 1.0241 - sparse_categorical_accuracy: 0.6251 - val_loss: 0.6978 - val_sparse_categorical_accuracy: 0.7444 - lr: 8.5214e-05\n",
      "Epoch 22/800\n",
      "169/169 [==============================] - 13s 77ms/step - loss: 1.0476 - sparse_categorical_accuracy: 0.6267 - val_loss: 0.7669 - val_sparse_categorical_accuracy: 0.7104 - lr: 8.4366e-05\n",
      "Epoch 23/800\n",
      "169/169 [==============================] - 13s 77ms/step - loss: 1.1537 - sparse_categorical_accuracy: 0.5788 - val_loss: 0.6341 - val_sparse_categorical_accuracy: 0.7785 - lr: 8.3527e-05\n",
      "Epoch 24/800\n",
      "169/169 [==============================] - 13s 76ms/step - loss: 0.9290 - sparse_categorical_accuracy: 0.6605 - val_loss: 0.6830 - val_sparse_categorical_accuracy: 0.7363 - lr: 8.2696e-05\n",
      "Epoch 25/800\n",
      "169/169 [==============================] - 13s 75ms/step - loss: 0.9847 - sparse_categorical_accuracy: 0.6444 - val_loss: 0.6814 - val_sparse_categorical_accuracy: 0.7559 - lr: 8.1873e-05\n",
      "Epoch 26/800\n",
      "169/169 [==============================] - 13s 77ms/step - loss: 1.0277 - sparse_categorical_accuracy: 0.6282 - val_loss: 0.6211 - val_sparse_categorical_accuracy: 0.7752 - lr: 8.1058e-05\n",
      "Epoch 27/800\n",
      "169/169 [==============================] - 14s 81ms/step - loss: 0.9144 - sparse_categorical_accuracy: 0.6711 - val_loss: 0.6033 - val_sparse_categorical_accuracy: 0.7926 - lr: 8.0252e-05\n",
      "Epoch 28/800\n",
      "169/169 [==============================] - 13s 79ms/step - loss: 0.9705 - sparse_categorical_accuracy: 0.6474 - val_loss: 0.5888 - val_sparse_categorical_accuracy: 0.7926 - lr: 7.9453e-05\n",
      "Epoch 29/800\n",
      "169/169 [==============================] - 14s 83ms/step - loss: 0.9458 - sparse_categorical_accuracy: 0.6576 - val_loss: 0.5620 - val_sparse_categorical_accuracy: 0.8041 - lr: 7.8663e-05\n",
      "Epoch 30/800\n",
      "  9/169 [>.............................] - ETA: 12s - loss: 0.5886 - sparse_categorical_accuracy: 0.7830"
     ]
    }
   ],
   "source": [
    "history = model.fit(\n",
    "    ds_train_augmented,\n",
    "    epochs=800,\n",
    "    validation_data=ds_validation,\n",
    "    callbacks = [tf.keras.callbacks.ModelCheckpoint(\n",
    "        \"dense/dense epoch:{epoch:02d}-val_loss:{val_loss:.3f}\",\n",
    "        save_best_only = True,\n",
    "        initial_value_threshold = 0.5\n",
    "    )\n",
    "    ,tf.keras.callbacks.LearningRateScheduler(scheduler)]\n",
    ")"
   ]
  },
  {
   "cell_type": "code",
   "execution_count": null,
   "id": "a26fb97a",
   "metadata": {},
   "outputs": [],
   "source": [
    "test_loss, test_acc = model.evaluate(ds_test, verbose=0)\n",
    "print('\\nTest accuracy:', test_acc)\n",
    "\n",
    "\n",
    "ds_test_predict = model.predict(ds_test, verbose=0)\n",
    "\n",
    "labels_iterator = ds_test.unbatch().map(lambda x, y: y).as_numpy_iterator()\n",
    "labels = np.array(list(labels_iterator))\n",
    "\n",
    "y_pred = np.argmax(ds_test_predict, axis=1)\n",
    "y_test = labels\n",
    "plt.figure(figsize=(10,6))\n",
    "fx=sns.heatmap(confusion_matrix(y_pred, y_test, normalize=\"pred\"), annot=True, fmt=\".2%\",cmap=\"GnBu\")\n",
    "fx.set_title('Confusion Matrix \\n');\n",
    "fx.set_xlabel('\\n Predicted Values\\n')\n",
    "fx.set_ylabel('Actual Values\\n');\n",
    "fx.xaxis.set_ticklabels(['AnnualCrop','Forest','HerbaceousVegetation',\n",
    "                         'Highway','Industrial','Pasture','PermanentCrop',\n",
    "                         'Residential','River','SeaLake'], rotation=20, ha=\"right\")\n",
    "fx.yaxis.set_ticklabels(['AnnualCrop','Forest','HerbaceousVegetation',\n",
    "                         'Highway','Industrial','Pasture','PermanentCrop',\n",
    "                         'Residential','River','SeaLake'], rotation=20, ha=\"right\")\n",
    "\n",
    "now = datetime.now()\n",
    "current_time = now.strftime(\"%H:%M:%S\")\n",
    "plt.savefig(fname=\"dense/dense confusion matrix\"+current_time,dpi=300)\n",
    "render_training_history(history)\n"
   ]
  }
 ],
 "metadata": {
  "kernelspec": {
   "display_name": "Python 3 (ipykernel)",
   "language": "python",
   "name": "python3"
  },
  "language_info": {
   "codemirror_mode": {
    "name": "ipython",
    "version": 3
   },
   "file_extension": ".py",
   "mimetype": "text/x-python",
   "name": "python",
   "nbconvert_exporter": "python",
   "pygments_lexer": "ipython3",
   "version": "3.10.8"
  }
 },
 "nbformat": 4,
 "nbformat_minor": 5
}
